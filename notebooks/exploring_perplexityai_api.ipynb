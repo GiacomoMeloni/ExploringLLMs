{
 "nbformat": 4,
 "nbformat_minor": 0,
 "metadata": {
  "colab": {
   "provenance": [],
   "toc_visible": true
  },
  "kernelspec": {
   "name": "python3",
   "language": "python",
   "display_name": "Python 3 (ipykernel)"
  },
  "language_info": {
   "name": "python"
  }
 },
 "cells": [
  {
   "cell_type": "markdown",
   "source": [
    "# 🚀 **Exploring Perplexity API Functionality**\n",
    "\n",
    "This notebook aims to explore Perplexity API functionalities. [pplx-api](https://docs.perplexity.ai/). \n",
    "\n",
    "[![Open In Colab](https://colab.research.google.com/assets/colab-badge.svg)](https://colab.research.google.com/github/GiacomoMeloni/ExploringLLMs/blob/main/notebooks/exploring_perplexityai_api.ipynb)\n",
    "\n",
    "## 🤔 **About Perplexity AI**\n",
    "\n",
    "[Perplexity AI](https://www.perplexity.ai/) is an AI-powered search engine and chatbot that uses advanced natural language processing tequniques to provide users with accurate and up-to-date information on various topics. It is designed to search the web in real-time and offer information on a wide range of subjects. Some key features and capabilities of Perplexity AI include:\n",
    "\n",
    "- 1️⃣ **Answer Engine**: Perplexity AI focuses on advancing how people [discover](https://www.perplexity.ai/discover) and share information by providing ready-made answers to users' questions and citing sources in real-time.\n",
    "\n",
    "- 2️⃣ **Multifaceted Applications**: Perplexity AI is versatile and can assist various professions, such as researchers, writers, artists, musicians, and programmers, in tasks like answering questions, generating text, writing creative content, and summarizing text.\n",
    "\n",
    "- 3️⃣ **Accuracy**: The AI uses natural language processing and machine learning techniques to analyze text data, providing an in-depth analysis and generating fresh concepts, resulting in accurate answers and information.\n",
    "\n",
    "- 4️⃣ **User-friendly Interface**: Perplexity AI is available on the web and as an app for iPhone users, making it easily accessible to a wide range of users.\n",
    "\n",
    "Perplexity AI was founded in 2022 by Andy Konwinski, Aravind Srinivas, Denis Yarats, and Johnny Ho, who have experience working with large language models at Google AI.\n",
    "\n",
    "\n",
    "## 📰 **Recent releases**\n",
    "\n",
    "Perplexity AI recently introduced its [pplx-api](https://docs.perplexity.ai/), which allows developers to access the company's AI models and other resources through a REST API. The API is designed to work with various large language models:\n",
    "\n",
    "| Model Name              | Context Length | Model Type        |\n",
    "|-------------------------|-----------------|-------------------|\n",
    "| codellama-34b-instruct  | 16384           | Chat Completion  |\n",
    "| llama-2-70b-chat        | 4096            | Chat Completion  |\n",
    "| mistral-7b-instruct     | 4096 ⬆**\\***        | Chat Completion  |\n",
    "| pplx-7b-chat            | 8192            | Chat Completion  |\n",
    "| pplx-70b-chat           | 4096            | Chat Completion  |\n",
    "| pplx-7b-online          | 4096            | Chat Completion  |\n",
    "| pplx-70b-online         | 4096            | Chat Completion  |\n",
    "\n",
    "\\* as reported on the 🗺️ [roadmap](https://docs.perplexity.ai/docs/feature-roadmap) the context length of Mistral 7b will be extended to 32K tokens.*"
   ],
   "metadata": {
    "id": "8rx6ZjAdA6ID"
   }
  },
  {
   "cell_type": "code",
   "execution_count": 15,
   "metadata": {
    "colab": {
     "base_uri": "https://localhost:8080/"
    },
    "id": "_EqiRcQg_ZgS",
    "outputId": "a9848898-fcb2-4c31-ddcd-902693d24cf4",
    "ExecuteTime": {
     "end_time": "2023-12-01T14:40:34.131392600Z",
     "start_time": "2023-12-01T14:40:34.117396300Z"
    }
   },
   "outputs": [],
   "source": [
    "import os\n",
    "import requests\n",
    "from time import time\n",
    "from enum import Enum\n",
    "from datetime import datetime"
   ]
  },
  {
   "cell_type": "code",
   "execution_count": 16,
   "outputs": [],
   "source": [
    "# Useful placeholders\n",
    "\n",
    "# PerplexityAI's API endpoint to access generative models\n",
    "URL = \"https://api.perplexity.ai/chat/completions\"\n",
    "\n",
    "# Is it possibile to specify some parameters for the output generation of each model\n",
    "MAX_TOKENS = 1500\n",
    "TEMPERATURE = 0\n",
    "TOP_P = 1\n",
    "FREQUENCY_PENALTY = 1.5"
   ],
   "metadata": {
    "collapsed": false,
    "ExecuteTime": {
     "end_time": "2023-12-01T14:40:34.159912400Z",
     "start_time": "2023-12-01T14:40:34.124394200Z"
    }
   }
  },
  {
   "cell_type": "code",
   "source": [
    "# Available models from PerplexityAI API\n",
    "\n",
    "class AvailablePPLXModels(Enum):\n",
    "  MISTRAL_7B: str = \"mistral-7b-instruct\"\n",
    "  PPLX_7B: str = \"pplx-7b-chat\"\n",
    "  PPLX_70B: str = \"pplx-70b-chat\"\n",
    "  PPLX_7B_ON: str = \"pplx-7b-online\"\n",
    "  PPLX_70B_ON: str = \"pplx-70b-online\"\n",
    "  LLAMA2_70B: str = \"llama-2-70b-chat\"\n",
    "  CODE_LLAMA_34B: str = \"codellama-34b-isntruct\"\n",
    "\n"
   ],
   "metadata": {
    "colab": {
     "base_uri": "https://localhost:8080/"
    },
    "id": "i-QJiX0GoHpp",
    "outputId": "73a4dd73-d4f8-4452-8e97-94ae3f221a44",
    "ExecuteTime": {
     "end_time": "2023-12-01T14:40:34.160912300Z",
     "start_time": "2023-12-01T14:40:34.140402900Z"
    }
   },
   "execution_count": 17,
   "outputs": []
  },
  {
   "cell_type": "code",
   "execution_count": 23,
   "outputs": [],
   "source": [
    "if 'google.colab' in str(get_ipython()):\n",
    "    from google.colab import userdata\n",
    "    pplx_api_key = userdata.get('PPLXAI_API_TOKEN')\n",
    "else:\n",
    "    pplx_api_key = os.environ.get('PPLXAI_API_TOKEN', None)\n",
    "\n",
    "headers = {\n",
    "    \"accept\": \"application/json\",\n",
    "    \"content-type\": \"application/json\",\n",
    "    \"authorization\": f\"Bearer {pplx_api_key}\"\n",
    "}\n",
    "\n",
    "assert headers['authorization'] is not None, \"You need to add an API Key to use Perplexity's API\""
   ],
   "metadata": {
    "collapsed": false,
    "ExecuteTime": {
     "end_time": "2023-12-01T14:50:08.823054800Z",
     "start_time": "2023-12-01T14:50:08.815049800Z"
    }
   }
  },
  {
   "cell_type": "code",
   "source": [
    "user_query = \"How many errors are handled by AWS Kendra Retrieve API?\"\n",
    "\n",
    "payload = {\n",
    "    \"model\": AvailablePPLXModels.PPLX_7B_ON.value,\n",
    "    \"messages\": [\n",
    "        {\n",
    "            \"role\": \"system\",\n",
    "            \"content\": f\"\"\"\n",
    "              Current date: {datetime.now().strftime(\"%A, %B %d, %Y\")}\n",
    "              You have to report the most recent information about the documentation requested by the user. Use only official documentation and be as concise as possible.\"\"\"\n",
    "        },\n",
    "        {\n",
    "            \"role\": \"user\",\n",
    "            \"content\": user_query\n",
    "        }\n",
    "    ],\n",
    "    \"max_tokens\": MAX_TOKENS,\n",
    "    \"temperature\": TEMPERATURE,\n",
    "    \"top_p\": TOP_P,\n",
    "    \"frequency_penalty\": FREQUENCY_PENALTY\n",
    "}\n",
    "\n",
    "assert payload['messages'] is not None, \"You need to specify some message for the model to work!\""
   ],
   "metadata": {
    "colab": {
     "base_uri": "https://localhost:8080/"
    },
    "id": "PyxbtrqVCTxy",
    "outputId": "da3d1eaa-57b0-4947-ca25-84761305743f",
    "ExecuteTime": {
     "end_time": "2023-12-01T14:40:34.187911700Z",
     "start_time": "2023-12-01T14:40:34.169912100Z"
    }
   },
   "execution_count": 19,
   "outputs": []
  },
  {
   "cell_type": "code",
   "source": [
    "start = time()\n",
    "response = requests.post(URL, json=payload, headers=headers).json()\n",
    "print(f\"Execution time: {round(time()-start,3)}s\")"
   ],
   "metadata": {
    "colab": {
     "base_uri": "https://localhost:8080/"
    },
    "id": "TI_p4OrdFZXi",
    "outputId": "55f1beb7-7a2e-4a03-f33e-8903eb7e99ff",
    "ExecuteTime": {
     "end_time": "2023-12-01T14:40:37.465456500Z",
     "start_time": "2023-12-01T14:40:34.183912100Z"
    }
   },
   "execution_count": 20,
   "outputs": []
  },
  {
   "cell_type": "code",
   "source": [
    "print(f\"Input tokens:\\t {response['usage']['prompt_tokens']}\")\n",
    "print(f\"Output tokens:\\t {response['usage']['completion_tokens']}\")\n",
    "print(f\"Total tokens:\\t {response['usage']['total_tokens']}\\n\\n\")\n",
    "\n",
    "print(f\"{response['choices'][0]['message']['content']}\")"
   ],
   "metadata": {
    "colab": {
     "base_uri": "https://localhost:8080/"
    },
    "id": "DSh1wZNSqGs-",
    "outputId": "c64a87b2-8177-487e-b3f3-f638079e2aba",
    "ExecuteTime": {
     "end_time": "2023-12-01T14:40:37.481964300Z",
     "start_time": "2023-12-01T14:40:37.469364800Z"
    }
   },
   "execution_count": 21,
   "outputs": [
    {
     "name": "stdout",
     "output_type": "stream",
     "text": [
      "Input tokens:\t 43\n",
      "Output tokens:\t 334\n",
      "Total tokens:\t 377\n",
      "\n",
      "\n",
      "AWS Kendra Retrieve API handles several errors, some of which include:\n",
      "\n",
      "- AccessDeniedException: You do not have sufficient access to perform this action. HTTP Status Code: 400.\n",
      "- InternalServerException: An issue occurred with the internal server used for your Amazon Kendra service. Please wait a few minutes and try again, or contact Support for help. HTTP Status Code: 500.\n",
      "- ResourceNotFoundException: The resource you want to use doesn't exist. Please check you have provided the correct resource and try again. HTTP Status Code: 400.\n",
      "- ServiceQuotaExceededException: You have exceeded the set limits for your Amazon Kendra service. Please see Quotas for more information, or contact Support to inquire about an increase of limits. HTTP Status Code: 400.\n",
      "- ThrottlingException: The request was denied due to request throttling. Please reduce the number of requests and try again. HTTP Status Code: 400.\n",
      "- ValidationException: The input fails to satisfy the constraints set by the Amazon Kendra service. Please provide the correct input and try again. HTTP Status Code: 400.\n",
      "\n",
      "These errors may occur due to issues with access, server problems, resource not found, exceeding service limits, throttling, or invalid input. To handle these errors, you can use error handling best practices, such as catching the errors and providing appropriate error messages to the user or developer.\n"
     ]
    }
   ]
  }
 ]
}
